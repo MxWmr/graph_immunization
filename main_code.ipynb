{
 "cells": [
  {
   "cell_type": "markdown",
   "metadata": {},
   "source": [
    "Optimization of vaccination with a network model"
   ]
  },
  {
   "cell_type": "code",
   "execution_count": 1,
   "metadata": {},
   "outputs": [],
   "source": [
    "## Packages\n",
    "import networkx as nx\n",
    "import EoN\n",
    "import matplotlib.pyplot as plt\n",
    "import random as rd\n",
    "import numpy as np\n",
    "import seaborn as sns"
   ]
  },
  {
   "cell_type": "markdown",
   "metadata": {},
   "source": [
    "Network generation:"
   ]
  },
  {
   "cell_type": "code",
   "execution_count": 2,
   "metadata": {},
   "outputs": [],
   "source": [
    "from network_generation import *\n",
    "\n",
    "N = 1000    # number of nodes\n",
    "\n",
    "G = small_world(N)\n",
    "#G = scale_free(N)\n",
    "#G = config_model(N)\n"
   ]
  },
  {
   "cell_type": "code",
   "execution_count": 9,
   "metadata": {},
   "outputs": [
    {
     "name": "stdout",
     "output_type": "stream",
     "text": [
      "Unexpected exception formatting exception. Falling back to standard exception\n"
     ]
    },
    {
     "name": "stderr",
     "output_type": "stream",
     "text": [
      "Traceback (most recent call last):\n",
      "  File \"C:\\Users\\wemaerem\\AppData\\Roaming\\Python\\Python39\\site-packages\\IPython\\core\\interactiveshell.py\", line 3397, in run_code\n",
      "    exec(code_obj, self.user_global_ns, self.user_ns)\n",
      "  File \"C:\\Users\\wemaerem\\AppData\\Local\\Temp\\ipykernel_3948\\2283783993.py\", line 1, in <cell line: 1>\n",
      "    G = nx.read_gml(\"datasets\\power.gml\")\n",
      "  File \"<class 'networkx.utils.decorators.argmap'> compilation 5\", line 5, in argmap_read_gml_1\n",
      "  File \"C:\\Users\\wemaerem\\AppData\\Roaming\\Python\\Python39\\site-packages\\networkx\\readwrite\\gml.py\", line 195, in read_gml\n",
      "    G = parse_gml_lines(filter_lines(path), label, destringizer)\n",
      "  File \"C:\\Users\\wemaerem\\AppData\\Roaming\\Python\\Python39\\site-packages\\networkx\\readwrite\\gml.py\", line 433, in parse_gml_lines\n",
      "    graph = parse_graph()\n",
      "  File \"C:\\Users\\wemaerem\\AppData\\Roaming\\Python\\Python39\\site-packages\\networkx\\readwrite\\gml.py\", line 422, in parse_graph\n",
      "    curr_token, dct = parse_kv(next(tokens))\n",
      "  File \"C:\\Users\\wemaerem\\AppData\\Roaming\\Python\\Python39\\site-packages\\networkx\\readwrite\\gml.py\", line 368, in parse_kv\n",
      "    curr_token, value = parse_dict(curr_token)\n",
      "  File \"C:\\Users\\wemaerem\\AppData\\Roaming\\Python\\Python39\\site-packages\\networkx\\readwrite\\gml.py\", line 418, in parse_dict\n",
      "    curr_token = consume(curr_token, Pattern.DICT_END, \"']'\")\n",
      "  File \"C:\\Users\\wemaerem\\AppData\\Roaming\\Python\\Python39\\site-packages\\networkx\\readwrite\\gml.py\", line 347, in consume\n",
      "    return next(tokens)\n",
      "  File \"C:\\Users\\wemaerem\\AppData\\Roaming\\Python\\Python39\\site-packages\\networkx\\readwrite\\gml.py\", line 314, in tokenize\n",
      "    for line in lines:\n",
      "  File \"C:\\Users\\wemaerem\\AppData\\Roaming\\Python\\Python39\\site-packages\\networkx\\readwrite\\gml.py\", line 184, in filter_lines\n",
      "    for line in lines:\n",
      "KeyboardInterrupt\n",
      "\n",
      "During handling of the above exception, another exception occurred:\n",
      "\n",
      "Traceback (most recent call last):\n",
      "  File \"C:\\Users\\wemaerem\\AppData\\Roaming\\Python\\Python39\\site-packages\\IPython\\core\\interactiveshell.py\", line 1992, in showtraceback\n",
      "    stb = self.InteractiveTB.structured_traceback(\n",
      "  File \"C:\\Users\\wemaerem\\AppData\\Roaming\\Python\\Python39\\site-packages\\IPython\\core\\ultratb.py\", line 1118, in structured_traceback\n",
      "    return FormattedTB.structured_traceback(\n",
      "  File \"C:\\Users\\wemaerem\\AppData\\Roaming\\Python\\Python39\\site-packages\\IPython\\core\\ultratb.py\", line 1012, in structured_traceback\n",
      "    return VerboseTB.structured_traceback(\n",
      "  File \"C:\\Users\\wemaerem\\AppData\\Roaming\\Python\\Python39\\site-packages\\IPython\\core\\ultratb.py\", line 865, in structured_traceback\n",
      "    formatted_exception = self.format_exception_as_a_whole(etype, evalue, etb, number_of_lines_of_context,\n",
      "  File \"C:\\Users\\wemaerem\\AppData\\Roaming\\Python\\Python39\\site-packages\\IPython\\core\\ultratb.py\", line 818, in format_exception_as_a_whole\n",
      "    frames.append(self.format_record(r))\n",
      "  File \"C:\\Users\\wemaerem\\AppData\\Roaming\\Python\\Python39\\site-packages\\IPython\\core\\ultratb.py\", line 736, in format_record\n",
      "    result += ''.join(_format_traceback_lines(frame_info.lines, Colors, self.has_colors, lvals))\n",
      "  File \"C:\\Users\\wemaerem\\AppData\\Roaming\\Python\\Python39\\site-packages\\stack_data\\utils.py\", line 145, in cached_property_wrapper\n",
      "    value = obj.__dict__[self.func.__name__] = self.func(obj)\n",
      "  File \"C:\\Users\\wemaerem\\AppData\\Roaming\\Python\\Python39\\site-packages\\stack_data\\core.py\", line 698, in lines\n",
      "    pieces = self.included_pieces\n",
      "  File \"C:\\Users\\wemaerem\\AppData\\Roaming\\Python\\Python39\\site-packages\\stack_data\\utils.py\", line 145, in cached_property_wrapper\n",
      "    value = obj.__dict__[self.func.__name__] = self.func(obj)\n",
      "  File \"C:\\Users\\wemaerem\\AppData\\Roaming\\Python\\Python39\\site-packages\\stack_data\\core.py\", line 649, in included_pieces\n",
      "    pos = scope_pieces.index(self.executing_piece)\n",
      "  File \"C:\\Users\\wemaerem\\AppData\\Roaming\\Python\\Python39\\site-packages\\stack_data\\utils.py\", line 145, in cached_property_wrapper\n",
      "    value = obj.__dict__[self.func.__name__] = self.func(obj)\n",
      "  File \"C:\\Users\\wemaerem\\AppData\\Roaming\\Python\\Python39\\site-packages\\stack_data\\core.py\", line 628, in executing_piece\n",
      "    return only(\n",
      "  File \"C:\\Users\\wemaerem\\AppData\\Roaming\\Python\\Python39\\site-packages\\executing\\executing.py\", line 164, in only\n",
      "    raise NotOneValueFound('Expected one value, found 0')\n",
      "executing.executing.NotOneValueFound: Expected one value, found 0\n"
     ]
    }
   ],
   "source": [
    "G = nx.read_gml(\"datasets\\power.gml\")\n",
    "\n",
    "N = G.number_of_nodes()\n",
    "print(N)"
   ]
  },
  {
   "cell_type": "code",
   "execution_count": 3,
   "metadata": {},
   "outputs": [
    {
     "name": "stderr",
     "output_type": "stream",
     "text": [
      "C:\\Users\\wemaerem\\AppData\\Roaming\\Python\\Python39\\site-packages\\seaborn\\distributions.py:2619: FutureWarning: `distplot` is a deprecated function and will be removed in a future version. Please adapt your code to use either `displot` (a figure-level function with similar flexibility) or `histplot` (an axes-level function for histograms).\n",
      "  warnings.warn(msg, FutureWarning)\n"
     ]
    },
    {
     "data": {
      "image/png": "[encoded data removed]",
      "text/plain": [
       "<Figure size 432x288 with 1 Axes>"
      ]
     },
     "metadata": {
      "needs_background": "light"
     },
     "output_type": "display_data"
    }
   ],
   "source": [
    "degree_sequence = [val for (node, val) in G.degree()]\n",
    "np.unique(degree_sequence, return_counts=True)\n",
    "sns.distplot(degree_sequence, hist = True, kde = True,\n",
    "                kde_kws = {'shade': True, 'linewidth': 3})\n",
    "plt.title('Distribution of degree')\n",
    "plt.xlabel('degree')\n",
    "plt.ylabel('Density')\n",
    "plt.show()"
   ]
  },
  {
   "cell_type": "markdown",
   "metadata": {},
   "source": [
    "Vaccination\n",
    "    -Node suppression"
   ]
  },
  {
   "cell_type": "code",
   "execution_count": 7,
   "metadata": {},
   "outputs": [
    {
     "name": "stderr",
     "output_type": "stream",
     "text": [
      "100%|██████████| 100/100 [04:36<00:00,  2.76s/it]"
     ]
    },
    {
     "name": "stdout",
     "output_type": "stream",
     "text": [
      "0.7645714285714286\n"
     ]
    },
    {
     "name": "stderr",
     "output_type": "stream",
     "text": [
      "\n"
     ]
    }
   ],
   "source": [
    "## Vaccination \n",
    "#from Vaccination_select import *\n",
    "from GA import GA\n",
    "psi = 0.3   #proportion of node vaccinated\n",
    "M = int(N*psi)   #Number of vaccinated node\n",
    "\n",
    "vaccinated,l_n,l_vuln =GA(G,M,N, measure ='simu_mes', trace =False, f_eps=0.001, n_gene=100)\n",
    "\n",
    "\n",
    "G_i=G.copy()\n",
    "G_i.remove_nodes_from(vaccinated)\n"
   ]
  },
  {
   "cell_type": "code",
   "execution_count": 10,
   "metadata": {},
   "outputs": [
    {
     "name": "stdout",
     "output_type": "stream",
     "text": [
      "22963\n"
     ]
    },
    {
     "name": "stderr",
     "output_type": "stream",
     "text": [
      "  0%|          | 0/22 [00:04<?, ?it/s]\n"
     ]
    },
    {
     "ename": "KeyboardInterrupt",
     "evalue": "",
     "output_type": "error",
     "traceback": [
      "\u001b[1;31m---------------------------------------------------------------------------\u001b[0m",
      "\u001b[1;31mKeyboardInterrupt\u001b[0m                         Traceback (most recent call last)",
      "\u001b[1;32mwemaerem$\\graph_immunization\\main_code.ipynb Cell 9'\u001b[0m in \u001b[0;36m<cell line: 6>\u001b[1;34m()\u001b[0m\n\u001b[0;32m      <a href='vscode-notebook-cell://home/wemaerem%24/graph_immunization/main_code.ipynb#ch0000007?line=2'>3</a>\u001b[0m psi \u001b[39m=\u001b[39m \u001b[39m0.3\u001b[39m   \u001b[39m#proportion of node vaccinated\u001b[39;00m\n\u001b[0;32m      <a href='vscode-notebook-cell://home/wemaerem%24/graph_immunization/main_code.ipynb#ch0000007?line=3'>4</a>\u001b[0m M \u001b[39m=\u001b[39m \u001b[39mint\u001b[39m(N\u001b[39m*\u001b[39mpsi)   \u001b[39m#Number of vaccinated node\u001b[39;00m\n\u001b[1;32m----> <a href='vscode-notebook-cell://home/wemaerem%24/graph_immunization/main_code.ipynb#ch0000007?line=5'>6</a>\u001b[0m vaccinated \u001b[39m=\u001b[39m netshield_plus(G,M,\u001b[39m300\u001b[39;49m)\n\u001b[0;32m      <a href='vscode-notebook-cell://home/wemaerem%24/graph_immunization/main_code.ipynb#ch0000007?line=7'>8</a>\u001b[0m G_i\u001b[39m=\u001b[39mG\u001b[39m.\u001b[39mcopy()\n\u001b[0;32m      <a href='vscode-notebook-cell://home/wemaerem%24/graph_immunization/main_code.ipynb#ch0000007?line=8'>9</a>\u001b[0m G_i\u001b[39m.\u001b[39mremove_nodes_from(vaccinated)\n",
      "File \u001b[1;32m\\\\home\\wemaerem$\\graph_immunization\\netshield.py:49\u001b[0m, in \u001b[0;36mnetshield_plus\u001b[1;34m(G, M, b)\u001b[0m\n\u001b[0;32m     <a href='file://home/wemaerem%24/graph_immunization/netshield.py?line=45'>46</a>\u001b[0m t\u001b[39m=\u001b[39m\u001b[39mint\u001b[39m(np\u001b[39m.\u001b[39mfloor(M\u001b[39m/\u001b[39mb))\n\u001b[0;32m     <a href='file://home/wemaerem%24/graph_immunization/netshield.py?line=47'>48</a>\u001b[0m \u001b[39mfor\u001b[39;00m j \u001b[39min\u001b[39;00m tqdm(\u001b[39mrange\u001b[39m(t)):\n\u001b[1;32m---> <a href='file://home/wemaerem%24/graph_immunization/netshield.py?line=48'>49</a>\u001b[0m     vacc_p \u001b[39m=\u001b[39m netshield(G2,M)\n\u001b[0;32m     <a href='file://home/wemaerem%24/graph_immunization/netshield.py?line=49'>50</a>\u001b[0m     vaccinated \u001b[39m=\u001b[39m \u001b[39mlist\u001b[39m( \u001b[39mset\u001b[39m(vaccinated)\u001b[39m.\u001b[39munion(vacc_p))\n\u001b[0;32m     <a href='file://home/wemaerem%24/graph_immunization/netshield.py?line=51'>52</a>\u001b[0m     G2\u001b[39m.\u001b[39mremove_nodes_from(vacc_p)\n",
      "File \u001b[1;32m\\\\home\\wemaerem$\\graph_immunization\\netshield.py:18\u001b[0m, in \u001b[0;36mnetshield\u001b[1;34m(G, M)\u001b[0m\n\u001b[0;32m     <a href='file://home/wemaerem%24/graph_immunization/netshield.py?line=11'>12</a>\u001b[0m A \u001b[39m=\u001b[39m rx\u001b[39m.\u001b[39madjacency_matrix(G)\n\u001b[0;32m     <a href='file://home/wemaerem%24/graph_immunization/netshield.py?line=13'>14</a>\u001b[0m \u001b[39m#w,vect = np.linalg.eig(A)\u001b[39;00m\n\u001b[0;32m     <a href='file://home/wemaerem%24/graph_immunization/netshield.py?line=14'>15</a>\u001b[0m \u001b[39m#idfeig = np.argmax(np.absolute(w))\u001b[39;00m\n\u001b[0;32m     <a href='file://home/wemaerem%24/graph_immunization/netshield.py?line=15'>16</a>\u001b[0m \u001b[39m#feig = w[idfeig]\u001b[39;00m\n\u001b[0;32m     <a href='file://home/wemaerem%24/graph_immunization/netshield.py?line=16'>17</a>\u001b[0m \u001b[39m#u = vect[idfeig]\u001b[39;00m\n\u001b[1;32m---> <a href='file://home/wemaerem%24/graph_immunization/netshield.py?line=17'>18</a>\u001b[0m feig,u\u001b[39m=\u001b[39mmax_ev(A\u001b[39m=\u001b[39;49mA,vector\u001b[39m=\u001b[39;49m\u001b[39mTrue\u001b[39;49;00m)\n\u001b[0;32m     <a href='file://home/wemaerem%24/graph_immunization/netshield.py?line=19'>20</a>\u001b[0m v\u001b[39m=\u001b[39mnp\u001b[39m.\u001b[39mzeros([\u001b[39mlen\u001b[39m(u)])\n\u001b[0;32m     <a href='file://home/wemaerem%24/graph_immunization/netshield.py?line=20'>21</a>\u001b[0m score\u001b[39m=\u001b[39mnp\u001b[39m.\u001b[39mzeros([\u001b[39mlen\u001b[39m(u)])\n",
      "File \u001b[1;32m\\\\home\\wemaerem$\\graph_immunization\\vulnerability_meas.py:46\u001b[0m, in \u001b[0;36mmax_ev\u001b[1;34m(G, A, vector)\u001b[0m\n\u001b[0;32m     <a href='file://home/wemaerem%24/graph_immunization/vulnerability_meas.py?line=43'>44</a>\u001b[0m \u001b[39mif\u001b[39;00m A \u001b[39mis\u001b[39;00m \u001b[39mNone\u001b[39;00m:\n\u001b[0;32m     <a href='file://home/wemaerem%24/graph_immunization/vulnerability_meas.py?line=44'>45</a>\u001b[0m     A \u001b[39m=\u001b[39m rx\u001b[39m.\u001b[39madjacency_matrix(G)\n\u001b[1;32m---> <a href='file://home/wemaerem%24/graph_immunization/vulnerability_meas.py?line=45'>46</a>\u001b[0m r_spec \u001b[39m=\u001b[39m von_mises(A,vector)\n\u001b[0;32m     <a href='file://home/wemaerem%24/graph_immunization/vulnerability_meas.py?line=46'>47</a>\u001b[0m \u001b[39mreturn\u001b[39;00m r_spec\n",
      "File \u001b[1;32m\\\\home\\wemaerem$\\graph_immunization\\vulnerability_meas.py:22\u001b[0m, in \u001b[0;36mvon_mises\u001b[1;34m(A, vector, eps, itemax)\u001b[0m\n\u001b[0;32m     <a href='file://home/wemaerem%24/graph_immunization/vulnerability_meas.py?line=18'>19</a>\u001b[0m v \u001b[39m=\u001b[39m b_k1_norm\n\u001b[0;32m     <a href='file://home/wemaerem%24/graph_immunization/vulnerability_meas.py?line=20'>21</a>\u001b[0m \u001b[39m# calculate the matrix-by-vector product Ab\u001b[39;00m\n\u001b[1;32m---> <a href='file://home/wemaerem%24/graph_immunization/vulnerability_meas.py?line=21'>22</a>\u001b[0m b_k1 \u001b[39m=\u001b[39m A\u001b[39m.\u001b[39;49mdot(b_k)\n\u001b[0;32m     <a href='file://home/wemaerem%24/graph_immunization/vulnerability_meas.py?line=24'>25</a>\u001b[0m \u001b[39m# calculate the norm\u001b[39;00m\n\u001b[0;32m     <a href='file://home/wemaerem%24/graph_immunization/vulnerability_meas.py?line=25'>26</a>\u001b[0m b_k1_norm \u001b[39m=\u001b[39m np\u001b[39m.\u001b[39mlinalg\u001b[39m.\u001b[39mnorm(b_k1,\u001b[39mord\u001b[39m\u001b[39m=\u001b[39m\u001b[39m2\u001b[39m)\n",
      "\u001b[1;31mKeyboardInterrupt\u001b[0m: "
     ]
    }
   ],
   "source": [
    "from netshield import netshield,netshield_plus\n",
    "print(N)\n",
    "psi = 0.3   #proportion of node vaccinated\n",
    "M = int(N*psi)   #Number of vaccinated node\n",
    "\n",
    "vaccinated = netshield_plus(G,M,300)\n",
    "\n",
    "G_i=G.copy()\n",
    "G_i.remove_nodes_from(vaccinated)"
   ]
  },
  {
   "cell_type": "code",
   "execution_count": 9,
   "metadata": {},
   "outputs": [
    {
     "data": {
      "image/png": "[encoded data removed]",
      "text/plain": [
       "<Figure size 432x288 with 1 Axes>"
      ]
     },
     "metadata": {
      "needs_background": "light"
     },
     "output_type": "display_data"
    }
   ],
   "source": [
    "## Evolution of the vulnerability\n",
    "\n",
    "plt.figure(1)\n",
    "plt.plot(l_n,l_vuln)\n",
    "plt.grid()\n",
    "plt.ylabel('vulnerability')\n",
    "plt.xlabel('generation')\n",
    "plt.show()"
   ]
  },
  {
   "cell_type": "code",
   "execution_count": 4,
   "metadata": {},
   "outputs": [],
   "source": [
    "# save the graph\n",
    "from graph_viz import *\n",
    "\n",
    "G2=G.copy()\n",
    "\n",
    "nx.set_node_attributes(G2, dict((el,1) for el in vaccinated),\"vacc\")\n",
    "\n",
    "save_graph(G2,'scalefree_ex2')"
   ]
  },
  {
   "cell_type": "markdown",
   "metadata": {},
   "source": [
    "Simulation    \n",
    "    -SIR model\n",
    "    "
   ]
  },
  {
   "cell_type": "code",
   "execution_count": 5,
   "metadata": {},
   "outputs": [],
   "source": [
    "## Parameter setting \n",
    "\n",
    "n_inf = 10   # initial number of infected nodes\n",
    "\n",
    "gamma = 1\n",
    "tau = 0.3\n"
   ]
  },
  {
   "cell_type": "code",
   "execution_count": 11,
   "metadata": {},
   "outputs": [
    {
     "name": "stdout",
     "output_type": "stream",
     "text": [
      "efficiency: 0.432\n"
     ]
    },
    {
     "name": "stderr",
     "output_type": "stream",
     "text": [
      "C:\\Users\\wemaerem\\AppData\\Local\\Temp\\ipykernel_8108\\1022795897.py:5: DeprecationWarning: Sampling from a set deprecated\n",
      "since Python 3.9 and will be removed in a subsequent version.\n",
      "  infected = rd.sample(G_i.nodes,n_inf)\n"
     ]
    },
    {
     "data": {
      "image/png": "[encoded data removed]",
      "text/plain": [
       "<Figure size 432x288 with 1 Axes>"
      ]
     },
     "metadata": {
      "needs_background": "light"
     },
     "output_type": "display_data"
    }
   ],
   "source": [
    "## Simulation\n",
    "\n",
    "# infected nodes list\n",
    "\n",
    "infected = rd.sample(G_i.nodes,n_inf)\n",
    "\n",
    "\n",
    "t, S, I, R = EoN.fast_SIR(G_i, tau, gamma,\n",
    "                            initial_infecteds = infected)\n",
    "\n",
    "plt.figure(2)\n",
    "plt.plot(t,S+M,'y',label='S')\n",
    "plt.plot(t,I,'r',label='I')\n",
    "plt.plot(t,R,'g',label='R')\n",
    "plt.legend()\n",
    "plt.grid()\n",
    "plt.xlabel('t')\n",
    "plt.title('Simulation SIR, '+str(psi*100)+'% vaccinated')\n",
    "\n",
    "print(\"efficiency: {}\".format((S[-1]+M)/N))\n"
   ]
  },
  {
   "cell_type": "code",
   "execution_count": 8,
   "metadata": {},
   "outputs": [
    {
     "ename": "IndexError",
     "evalue": "too many indices for array: array is 2-dimensional, but 3 were indexed",
     "output_type": "error",
     "traceback": [
      "\u001b[1;31m---------------------------------------------------------------------------\u001b[0m",
      "\u001b[1;31mIndexError\u001b[0m                                Traceback (most recent call last)",
      "\u001b[1;32mwemaerem$\\stage_taff\\Codes\\main_code.ipynb Cell 12'\u001b[0m in \u001b[0;36m<cell line: 12>\u001b[1;34m()\u001b[0m\n\u001b[0;32m      <a href='vscode-notebook-cell://home/wemaerem%24/stage_taff/Codes/main_code.ipynb#ch0000011?line=4'>5</a>\u001b[0m sim_kwargs \u001b[39m=\u001b[39m {\u001b[39m'\u001b[39m\u001b[39mpos\u001b[39m\u001b[39m'\u001b[39m: pos}\n\u001b[0;32m      <a href='vscode-notebook-cell://home/wemaerem%24/stage_taff/Codes/main_code.ipynb#ch0000011?line=5'>6</a>\u001b[0m sim \u001b[39m=\u001b[39m EoN\u001b[39m.\u001b[39mfast_SIR(G_i, tau, gamma,\n\u001b[0;32m      <a href='vscode-notebook-cell://home/wemaerem%24/stage_taff/Codes/main_code.ipynb#ch0000011?line=6'>7</a>\u001b[0m                             initial_infecteds \u001b[39m=\u001b[39m infected, tmax \u001b[39m=\u001b[39m \u001b[39m40\u001b[39m,\n\u001b[0;32m      <a href='vscode-notebook-cell://home/wemaerem%24/stage_taff/Codes/main_code.ipynb#ch0000011?line=7'>8</a>\u001b[0m                             return_full_data\u001b[39m=\u001b[39m\u001b[39mTrue\u001b[39;00m, sim_kwargs \u001b[39m=\u001b[39m sim_kwargs)\n\u001b[1;32m---> <a href='vscode-notebook-cell://home/wemaerem%24/stage_taff/Codes/main_code.ipynb#ch0000011?line=11'>12</a>\u001b[0m ani\u001b[39m=\u001b[39msim\u001b[39m.\u001b[39;49manimate(ts_plots\u001b[39m=\u001b[39;49m[\u001b[39m'\u001b[39;49m\u001b[39mI\u001b[39;49m\u001b[39m'\u001b[39;49m, \u001b[39m'\u001b[39;49m\u001b[39mSIR\u001b[39;49m\u001b[39m'\u001b[39;49m], node_size \u001b[39m=\u001b[39;49m \u001b[39m4\u001b[39;49m)\n\u001b[0;32m     <a href='vscode-notebook-cell://home/wemaerem%24/stage_taff/Codes/main_code.ipynb#ch0000011?line=12'>13</a>\u001b[0m ani\u001b[39m.\u001b[39msave(\u001b[39m'\u001b[39m\u001b[39mSIR_2dgrid.mp4\u001b[39m\u001b[39m'\u001b[39m, fps\u001b[39m=\u001b[39m\u001b[39m5\u001b[39m, extra_args\u001b[39m=\u001b[39m[\u001b[39m'\u001b[39m\u001b[39m-vcodec\u001b[39m\u001b[39m'\u001b[39m, \u001b[39m'\u001b[39m\u001b[39mlibx264\u001b[39m\u001b[39m'\u001b[39m])\n",
      "File \u001b[1;32m~\\AppData\\Roaming\\Python\\Python39\\site-packages\\EoN\\simulation_investigation.py:1036\u001b[0m, in \u001b[0;36mSimulation_Investigation.animate\u001b[1;34m(self, frame_times, ts_plots, ts_list, nodelist, status_order, timelabel, pos, statuses_to_plot, **nx_kwargs)\u001b[0m\n\u001b[0;32m   <a href='file:///c%3A/Users/wemaerem/AppData/Roaming/Python/Python39/site-packages/EoN/simulation_investigation.py?line=1025'>1026</a>\u001b[0m     status_order \u001b[39m=\u001b[39m []\n\u001b[0;32m   <a href='file:///c%3A/Users/wemaerem/AppData/Roaming/Python/Python39/site-packages/EoN/simulation_investigation.py?line=1027'>1028</a>\u001b[0m \u001b[39m#First we draw all of the nodes with their original status, and without\u001b[39;00m\n\u001b[0;32m   <a href='file:///c%3A/Users/wemaerem/AppData/Roaming/Python/Python39/site-packages/EoN/simulation_investigation.py?line=1028'>1029</a>\u001b[0m \u001b[39m#putting particular status on top.  All nodes are in place, and their color\u001b[39;00m\n\u001b[0;32m   <a href='file:///c%3A/Users/wemaerem/AppData/Roaming/Python/Python39/site-packages/EoN/simulation_investigation.py?line=1029'>1030</a>\u001b[0m \u001b[39m#can be updated at a later time.\u001b[39;00m\n\u001b[1;32m   (...)\u001b[0m\n\u001b[0;32m   <a href='file:///c%3A/Users/wemaerem/AppData/Roaming/Python/Python39/site-packages/EoN/simulation_investigation.py?line=1033'>1034</a>\u001b[0m \u001b[39m#For each status that goes on top, we draw it in a way that we'll be\u001b[39;00m\n\u001b[0;32m   <a href='file:///c%3A/Users/wemaerem/AppData/Roaming/Python/Python39/site-packages/EoN/simulation_investigation.py?line=1034'>1035</a>\u001b[0m \u001b[39m#able to redraw that status at a later time.\u001b[39;00m\n\u001b[1;32m-> <a href='file:///c%3A/Users/wemaerem/AppData/Roaming/Python/Python39/site-packages/EoN/simulation_investigation.py?line=1035'>1036</a>\u001b[0m drawn_nodes \u001b[39m=\u001b[39m \u001b[39mself\u001b[39m\u001b[39m.\u001b[39m_display_graph_(pos, initial_status, nodelist, \u001b[39mFalse\u001b[39;00m, statuses_to_plot, graph_ax, \u001b[39m*\u001b[39m\u001b[39m*\u001b[39mnx_kwargs)\n\u001b[0;32m   <a href='file:///c%3A/Users/wemaerem/AppData/Roaming/Python/Python39/site-packages/EoN/simulation_investigation.py?line=1036'>1037</a>\u001b[0m elevated \u001b[39m=\u001b[39m {status: [node \u001b[39mfor\u001b[39;00m node \u001b[39min\u001b[39;00m \u001b[39mself\u001b[39m\u001b[39m.\u001b[39mG \u001b[39mif\u001b[39;00m initial_status[node] \u001b[39m==\u001b[39m status] \u001b[39mfor\u001b[39;00m status \u001b[39min\u001b[39;00m status_order}\n\u001b[0;32m   <a href='file:///c%3A/Users/wemaerem/AppData/Roaming/Python/Python39/site-packages/EoN/simulation_investigation.py?line=1038'>1039</a>\u001b[0m drawn_elevated \u001b[39m=\u001b[39m {}\n",
      "File \u001b[1;32m~\\AppData\\Roaming\\Python\\Python39\\site-packages\\EoN\\simulation_investigation.py:639\u001b[0m, in \u001b[0;36mSimulation_Investigation._display_graph_\u001b[1;34m(self, pos, nodestatus, nodelist, status_order, statuses_to_plot, ax, **nx_kwargs)\u001b[0m\n\u001b[0;32m    <a href='file:///c%3A/Users/wemaerem/AppData/Roaming/Python/Python39/site-packages/EoN/simulation_investigation.py?line=634'>635</a>\u001b[0m         nodelist\u001b[39m.\u001b[39mextend(L)\n\u001b[0;32m    <a href='file:///c%3A/Users/wemaerem/AppData/Roaming/Python/Python39/site-packages/EoN/simulation_investigation.py?line=636'>637</a>\u001b[0m color_list \u001b[39m=\u001b[39m [\u001b[39mself\u001b[39m\u001b[39m.\u001b[39msim_color_dict[nodestatus[node]] \u001b[39mif\u001b[39;00m nodestatus[node] \u001b[39min\u001b[39;00m statuses_to_plot \u001b[39melse\u001b[39;00m \u001b[39m\"\u001b[39m\u001b[39mNone\u001b[39m\u001b[39m\"\u001b[39m \u001b[39mfor\u001b[39;00m node \u001b[39min\u001b[39;00m nodelist]\n\u001b[1;32m--> <a href='file:///c%3A/Users/wemaerem/AppData/Roaming/Python/Python39/site-packages/EoN/simulation_investigation.py?line=638'>639</a>\u001b[0m nx\u001b[39m.\u001b[39mdraw_networkx_edges(\u001b[39mself\u001b[39m\u001b[39m.\u001b[39mG, pos, edgelist\u001b[39m=\u001b[39medgelist, ax\u001b[39m=\u001b[39max, \u001b[39m*\u001b[39m\u001b[39m*\u001b[39mnx_kwargs)\n\u001b[0;32m    <a href='file:///c%3A/Users/wemaerem/AppData/Roaming/Python/Python39/site-packages/EoN/simulation_investigation.py?line=639'>640</a>\u001b[0m drawn_nodes \u001b[39m=\u001b[39m nx\u001b[39m.\u001b[39mdraw_networkx_nodes(\u001b[39mself\u001b[39m\u001b[39m.\u001b[39mG, pos, nodelist \u001b[39m=\u001b[39m nodelist, node_color\u001b[39m=\u001b[39mcolor_list, ax\u001b[39m=\u001b[39max, \u001b[39m*\u001b[39m\u001b[39m*\u001b[39mnx_kwargs)\n\u001b[0;32m    <a href='file:///c%3A/Users/wemaerem/AppData/Roaming/Python/Python39/site-packages/EoN/simulation_investigation.py?line=640'>641</a>\u001b[0m \u001b[39mif\u001b[39;00m \u001b[39m\"\u001b[39m\u001b[39mwith_labels\u001b[39m\u001b[39m\"\u001b[39m \u001b[39min\u001b[39;00m nx_kwargs \u001b[39mand\u001b[39;00m nx_kwargs[\u001b[39m'\u001b[39m\u001b[39mwith_labels\u001b[39m\u001b[39m'\u001b[39m]\u001b[39m==\u001b[39m\u001b[39mTrue\u001b[39;00m:\n",
      "File \u001b[1;32m~\\AppData\\Roaming\\Python\\Python39\\site-packages\\networkx\\drawing\\nx_pylab.py:873\u001b[0m, in \u001b[0;36mdraw_networkx_edges\u001b[1;34m(G, pos, edgelist, width, edge_color, style, alpha, arrowstyle, arrowsize, edge_cmap, edge_vmin, edge_vmax, ax, arrows, label, node_size, nodelist, node_shape, connectionstyle, min_source_margin, min_target_margin)\u001b[0m\n\u001b[0;32m    <a href='file:///c%3A/Users/wemaerem/AppData/Roaming/Python/Python39/site-packages/networkx/drawing/nx_pylab.py?line=869'>870</a>\u001b[0m     \u001b[39mreturn\u001b[39;00m arrow_collection\n\u001b[0;32m    <a href='file:///c%3A/Users/wemaerem/AppData/Roaming/Python/Python39/site-packages/networkx/drawing/nx_pylab.py?line=871'>872</a>\u001b[0m \u001b[39m# compute initial view\u001b[39;00m\n\u001b[1;32m--> <a href='file:///c%3A/Users/wemaerem/AppData/Roaming/Python/Python39/site-packages/networkx/drawing/nx_pylab.py?line=872'>873</a>\u001b[0m minx \u001b[39m=\u001b[39m np\u001b[39m.\u001b[39mamin(np\u001b[39m.\u001b[39mravel(edge_pos[:, :, \u001b[39m0\u001b[39;49m]))\n\u001b[0;32m    <a href='file:///c%3A/Users/wemaerem/AppData/Roaming/Python/Python39/site-packages/networkx/drawing/nx_pylab.py?line=873'>874</a>\u001b[0m maxx \u001b[39m=\u001b[39m np\u001b[39m.\u001b[39mamax(np\u001b[39m.\u001b[39mravel(edge_pos[:, :, \u001b[39m0\u001b[39m]))\n\u001b[0;32m    <a href='file:///c%3A/Users/wemaerem/AppData/Roaming/Python/Python39/site-packages/networkx/drawing/nx_pylab.py?line=874'>875</a>\u001b[0m miny \u001b[39m=\u001b[39m np\u001b[39m.\u001b[39mamin(np\u001b[39m.\u001b[39mravel(edge_pos[:, :, \u001b[39m1\u001b[39m]))\n",
      "\u001b[1;31mIndexError\u001b[0m: too many indices for array: array is 2-dimensional, but 3 were indexed"
     ]
    },
    {
     "data": {
      "image/png": "[encoded data removed]",
      "text/plain": [
       "<Figure size 720x288 with 1 Axes>"
      ]
     },
     "metadata": {
      "needs_background": "light"
     },
     "output_type": "display_data"
    }
   ],
   "source": [
    "## Animation of the Contagion\n",
    "\n",
    "## To build\n",
    "pos = {node:node for node in G}\n",
    "sim_kwargs = {'pos': pos}\n",
    "sim = EoN.fast_SIR(G_i, tau, gamma,\n",
    "                            initial_infecteds = infected, tmax = 40,\n",
    "                            return_full_data=True, sim_kwargs = sim_kwargs)\n",
    "\n",
    "\n",
    "\n",
    "ani=sim.animate(ts_plots=['I', 'SIR'], node_size = 4)\n",
    "ani.save('SIR_2dgrid.mp4', fps=5, extra_args=['-vcodec', 'libx264'])\n"
   ]
  }
 ],
 "metadata": {
  "interpreter": {
   "hash": "11938c6bc6919ae2720b4d5011047913343b08a43b18698fd82dedb0d4417594"
  },
  "kernelspec": {
   "display_name": "Python 3.9.13 64-bit",
   "language": "python",
   "name": "python3"
  },
  "language_info": {
   "codemirror_mode": {
    "name": "ipython",
    "version": 3
   },
   "file_extension": ".py",
   "mimetype": "text/x-python",
   "name": "python",
   "nbconvert_exporter": "python",
   "pygments_lexer": "ipython3",
   "version": "3.9.13"
  },
  "orig_nbformat": 4
 },
 "nbformat": 4,
 "nbformat_minor": 2
}
