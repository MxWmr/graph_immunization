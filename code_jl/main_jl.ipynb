{
 "cells": [
  {
   "cell_type": "code",
   "execution_count": 1,
   "metadata": {},
   "outputs": [],
   "source": [
    "### Importing all useful packages\n",
    "\n",
    "include(\"NetworksUtils.jl\")\n",
    "using .NetworksUtils\n",
    "using LightGraphs\n"
   ]
  },
  {
   "cell_type": "code",
   "execution_count": 2,
   "metadata": {},
   "outputs": [],
   "source": [
    "### Generating a network\n",
    "N = 1000;\n",
    "G = small_world(N);\n",
    "# G = power_law(N);\n",
    "# G = config_model(N);\n",
    "\n",
    "\n",
    "feig_init = max_ev(G);"
   ]
  },
  {
   "cell_type": "code",
   "execution_count": 13,
   "metadata": {},
   "outputs": [],
   "source": [
    "## Vaccination selection\n",
    "ψ = 0.3;\n",
    "M = Int(N*ψ);\n",
    "\n",
    "vaccinated = deg_max(G,M);\n",
    "#vaccinated = centrality_max_recomp(G,M);\n"
   ]
  },
  {
   "cell_type": "code",
   "execution_count": 14,
   "metadata": {},
   "outputs": [
    {
     "name": "stdout",
     "output_type": "stream",
     "text": [
      "700\n"
     ]
    }
   ],
   "source": [
    "## Vaccination\n",
    "\n",
    "G_i = squash(G)\n",
    "\n",
    "for i in 1:length(vaccinated)\n",
    "    node = vaccinated[i]\n",
    "    rem_vertex!(G_i,node)\n",
    "    for j in (i+1):length(vaccinated)\n",
    "        if vaccinated[j] > node\n",
    "            vaccinated[j]-=1\n",
    "        end\n",
    "    end\n",
    "end\n",
    "\n",
    "println(nv(G_i))"
   ]
  },
  {
   "cell_type": "code",
   "execution_count": 18,
   "metadata": {},
   "outputs": [
    {
     "data": {
      "text/plain": [
       "2.5805910853708234"
      ]
     },
     "metadata": {},
     "output_type": "display_data"
    }
   ],
   "source": [
    "\n",
    "eigen_drop = feig_init - max_ev(G_i)"
   ]
  }
 ],
 "metadata": {
  "kernelspec": {
   "display_name": "Julia 1.7.2",
   "language": "julia",
   "name": "julia-1.7"
  },
  "language_info": {
   "file_extension": ".jl",
   "mimetype": "application/julia",
   "name": "julia",
   "version": "1.7.2"
  },
  "orig_nbformat": 4
 },
 "nbformat": 4,
 "nbformat_minor": 2
}
