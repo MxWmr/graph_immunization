{
 "cells": [
  {
   "cell_type": "code",
   "execution_count": 1,
   "metadata": {},
   "outputs": [],
   "source": [
    "import networkx as nx\n",
    "import retworkx as rx\n",
    "import matplotlib.pyplot as plt\n",
    "import random as rd\n",
    "from conjugate_gradient import conjugate_gradient_opt\n",
    "import sys\n",
    "sys.path.append('\\graph_immunization')\n",
    "from network_generation import *\n",
    "from vulnerability_meas import max_ev\n"
   ]
  },
  {
   "cell_type": "code",
   "execution_count": 28,
   "metadata": {},
   "outputs": [],
   "source": [
    "N = 1000\n",
    "#G  = small_world(N)\n",
    "G = config_model(1000)"
   ]
  },
  {
   "cell_type": "code",
   "execution_count": 29,
   "metadata": {},
   "outputs": [
    {
     "name": "stderr",
     "output_type": "stream",
     "text": [
      "  0%|          | 0/1000 [00:00<?, ?it/s]\\\\home\\wemaerem$\\graph_immunization\\gradient_optimization\\conjugate_gradient.py:30: RuntimeWarning: divide by zero encountered in reciprocal\n",
      "  return b_k,np.reciprocal(b_k)/1000\n",
      "100%|██████████| 1000/1000 [01:05<00:00, 15.29it/s]\n"
     ]
    }
   ],
   "source": [
    "vaccinated = conjugate_gradient_opt(G,N)"
   ]
  },
  {
   "cell_type": "code",
   "execution_count": 30,
   "metadata": {},
   "outputs": [
    {
     "name": "stderr",
     "output_type": "stream",
     "text": [
      "100%|██████████| 1000/1000 [00:12<00:00, 80.58it/s]\n"
     ]
    }
   ],
   "source": [
    "from tqdm import tqdm\n",
    "\n",
    "### conjugate_grad\n",
    "Gr = rx.networkx_converter(G)\n",
    "eig_start = max_ev(Gr)\n",
    "eigendrop = [0]\n",
    "cost = [0]\n",
    "grad=[0]\n",
    "n_calc=20\n",
    "A= rx.adjacency_matrix(Gr)\n",
    "l_index = list(range(N))\n",
    "for i in tqdm(range(0,N)):\n",
    "    node = vaccinated[i]\n",
    "    A = np.delete(A,l_index.index(node),0)\n",
    "    A = np.delete(A,l_index.index(node),1)\n",
    "    l_index.remove(node)\n",
    "    eig=0\n",
    "    for j in range(n_calc):\n",
    "        eig += max_ev(A=A)\n",
    "    eigendrop.append(eig_start-eig/n_calc)\n",
    "    cost.append((i+1)/N)\n",
    "    grad.append((eigendrop[-1]-eigendrop[-2]))"
   ]
  },
  {
   "cell_type": "code",
   "execution_count": 5,
   "metadata": {},
   "outputs": [],
   "source": [
    "## vacc random\n",
    "vaccinated_rd = list(range(N))\n",
    "rd.shuffle(vaccinated_rd)\n",
    "eigendrop_rd = [0]\n",
    "n_calc=20\n",
    "for i in range(1,N+1):\n",
    "    G_i = Gr.copy()\n",
    "    G_i.remove_nodes_from(vaccinated_rd[:i])\n",
    "    eig=0\n",
    "    for j in range(n_calc):\n",
    "        eig += max_ev(G_i)\n",
    "    eigendrop_rd.append(eig_start-eig/n_calc)\n"
   ]
  },
  {
   "cell_type": "code",
   "execution_count": 16,
   "metadata": {},
   "outputs": [],
   "source": [
    "## deg centrality no recomp\n",
    "\n",
    "deg =  [node for (node, val) in sorted(G.degree(), key=lambda pair: pair[1])]\n",
    "eigendrop_deg = [0]\n",
    "n_calc=20\n",
    "for i in range(1,N+1):\n",
    "    G_i = Gr.copy()\n",
    "    G_i.remove_nodes_from(deg[:i])\n",
    "    eig=0\n",
    "    for j in range(n_calc):\n",
    "        eig += max_ev(G_i)\n",
    "    eigendrop_deg.append(eig_start-eig/n_calc)\n"
   ]
  },
  {
   "cell_type": "code",
   "execution_count": 19,
   "metadata": {},
   "outputs": [],
   "source": [
    "## betweennes centrality no recomp\n",
    "\n",
    "centr = list(nx.betweenness_centrality(G).values())\n",
    "vacc_centr = np.argsort(centr)\n",
    "vacc_centr = np.flip(vacc_centr)\n",
    "\n",
    "eigendrop_cent = [0]\n",
    "n_calc=20\n",
    "for i in range(1,N+1):\n",
    "    G_i = Gr.copy()\n",
    "    G_i.remove_nodes_from(vacc_centr[:i])\n",
    "    eig=0\n",
    "    for j in range(n_calc):\n",
    "        eig += max_ev(G_i)\n",
    "    eigendrop_cent.append(eig_start-eig/n_calc)\n"
   ]
  },
  {
   "cell_type": "code",
   "execution_count": 6,
   "metadata": {},
   "outputs": [
    {
     "name": "stderr",
     "output_type": "stream",
     "text": [
      "100%|██████████| 1000/1000 [00:30<00:00, 32.92it/s]\n"
     ]
    }
   ],
   "source": [
    "from Vaccination_select import centrality_max_recomp,deg_max\n",
    "\n",
    "vacc_centr_r=centrality_max_recomp(G,N)\n",
    "vacc_deg_r=deg_max(G,N)\n",
    "\n",
    "eigendrop_cent_r = [0]\n",
    "for i in range(1,N+1):\n",
    "    G_i = Gr.copy()\n",
    "    G_i.remove_nodes_from(vacc_centr_r[:i])\n",
    "    eig=0\n",
    "    for j in range(n_calc):\n",
    "        eig += max_ev(G_i)\n",
    "    eigendrop_cent_r.append(eig_start-eig/n_calc)\n",
    "\n",
    "eigendrop_deg_r = [0]\n",
    "for i in range(1,N+1):\n",
    "    G_i = Gr.copy()\n",
    "    G_i.remove_nodes_from(vacc_deg_r[:i])\n",
    "    eig=0\n",
    "    for j in range(n_calc):\n",
    "        eig += max_ev(G_i)\n",
    "    eigendrop_deg_r.append(eig_start-eig/n_calc)\n",
    "\n",
    "\n"
   ]
  },
  {
   "cell_type": "code",
   "execution_count": 17,
   "metadata": {},
   "outputs": [],
   "source": [
    "import numpy as np\n",
    "np.save(\"ed_conj_grad_smallworld.npy\",np.array([cost,eigendrop,eigendrop_rd]))"
   ]
  },
  {
   "cell_type": "code",
   "execution_count": 31,
   "metadata": {},
   "outputs": [
    {
     "data": {
      "image/png": "[encoded data removed]",
      "text/plain": [
       "<Figure size 432x288 with 1 Axes>"
      ]
     },
     "metadata": {
      "needs_background": "light"
     },
     "output_type": "display_data"
    }
   ],
   "source": [
    "plt.figure(1)\n",
    "plt.plot(cost,eigendrop,label=\"conjugate gradient method\")\n",
    "plt.plot(cost,grad,label=\"grad of the method\")\n",
    "#plt.plot(cost,eigendrop_rd,label=\"random vaccination\")\n",
    "#plt.plot(cost,eigendrop_deg,label=\"degree centrality no recomp\")\n",
    "#plt.plot(cost,eigendrop_cent,label=\"betweenness centrality no recomp\")\n",
    "#plt.plot(cost,eigendrop_deg_r,label=\"degree centrality \")\n",
    "#plt.plot(cost,eigendrop_cent_r,label=\"betweenness centrality \")\n",
    "plt.grid()\n",
    "plt.xlabel('cost')\n",
    "plt.ylabel(\"eigendrop\")\n",
    "plt.legend()\n",
    "plt.show()"
   ]
  },
  {
   "cell_type": "code",
   "execution_count": 9,
   "metadata": {},
   "outputs": [
    {
     "name": "stdout",
     "output_type": "stream",
     "text": [
      "2568\n"
     ]
    }
   ],
   "source": [
    "k=1\n",
    "for i in range(1,1001):\n",
    "    k*=i\n",
    "s =str(k)\n",
    "print(len(s))"
   ]
  }
 ],
 "metadata": {
  "interpreter": {
   "hash": "11938c6bc6919ae2720b4d5011047913343b08a43b18698fd82dedb0d4417594"
  },
  "kernelspec": {
   "display_name": "Python 3.9.13 64-bit",
   "language": "python",
   "name": "python3"
  },
  "language_info": {
   "codemirror_mode": {
    "name": "ipython",
    "version": 3
   },
   "file_extension": ".py",
   "mimetype": "text/x-python",
   "name": "python",
   "nbconvert_exporter": "python",
   "pygments_lexer": "ipython3",
   "version": "3.9.13"
  },
  "orig_nbformat": 4
 },
 "nbformat": 4,
 "nbformat_minor": 2
}
