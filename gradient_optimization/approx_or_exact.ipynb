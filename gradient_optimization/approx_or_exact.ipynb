{
 "cells": [
  {
   "cell_type": "code",
   "execution_count": 1,
   "metadata": {},
   "outputs": [],
   "source": [
    "import networkx as nx\n",
    "import retworkx as rx\n",
    "import matplotlib.pyplot as plt\n",
    "import random as rd\n",
    "from conjugate_gradient import conjugate_gradient_opt,conjugate_gradient_back\n",
    "from conjugate_gradient_euler import conjugate_gradient_euler\n",
    "import sys\n",
    "sys.path.append('\\graph_immunization')\n",
    "from network_generation import *\n",
    "from vulnerability_meas import max_ev\n",
    "import numpy as np\n",
    "from tqdm import tqdm\n"
   ]
  },
  {
   "cell_type": "code",
   "execution_count": 2,
   "metadata": {},
   "outputs": [],
   "source": [
    "N = 1000\n",
    "G  = small_world(N)\n",
    "#G = config_model(1000)"
   ]
  },
  {
   "cell_type": "code",
   "execution_count": 4,
   "metadata": {},
   "outputs": [
    {
     "name": "stderr",
     "output_type": "stream",
     "text": [
      " 67%|██████▋   | 667/1000 [00:23<00:15, 20.95it/s]\\\\home\\wemaerem$\\graph_immunization\\gradient_optimization\\conjugate_gradient.py:30: RuntimeWarning: divide by zero encountered in true_divide\n",
      "  return b_k,np.where(b_k!=0.,1/b_k/1000,0)\n",
      " 84%|████████▍ | 840/1000 [00:31<00:05, 28.40it/s]\\\\home\\wemaerem$\\graph_immunization\\gradient_optimization\\conjugate_gradient.py:30: RuntimeWarning: overflow encountered in true_divide\n",
      "  return b_k,np.where(b_k!=0.,1/b_k/1000,0)\n",
      "100%|██████████| 1000/1000 [05:51<00:00,  2.85it/s]\n"
     ]
    }
   ],
   "source": [
    "vacc_app= conjugate_gradient_opt(G,N,exact=False)"
   ]
  },
  {
   "cell_type": "code",
   "execution_count": null,
   "metadata": {},
   "outputs": [],
   "source": [
    "vacc_ex= conjugate_gradient_opt(G,N,exact=True)"
   ]
  },
  {
   "cell_type": "code",
   "execution_count": 3,
   "metadata": {},
   "outputs": [
    {
     "name": "stderr",
     "output_type": "stream",
     "text": [
      "100%|██████████| 1000/1000 [38:37<00:00,  2.32s/it] \n"
     ]
    }
   ],
   "source": [
    "vacc_eul = conjugate_gradient_euler(G,N)"
   ]
  },
  {
   "cell_type": "code",
   "execution_count": 5,
   "metadata": {},
   "outputs": [
    {
     "name": "stderr",
     "output_type": "stream",
     "text": [
      "100%|██████████| 1000/1000 [00:13<00:00, 74.47it/s]"
     ]
    },
    {
     "name": "stdout",
     "output_type": "stream",
     "text": [
      "6376.908080140634\n"
     ]
    },
    {
     "name": "stderr",
     "output_type": "stream",
     "text": [
      "\n"
     ]
    }
   ],
   "source": [
    "### conjugate_grad approx\n",
    "Gr = rx.networkx_converter(G)\n",
    "eig_start = max_ev(Gr)\n",
    "eig_app = [0]\n",
    "cost = [0]\n",
    "n_calc=20\n",
    "A= rx.adjacency_matrix(Gr)\n",
    "l_index = list(range(N))\n",
    "score = 0\n",
    "for i in tqdm(range(0,N)):\n",
    "    node = vacc_app[i]\n",
    "    A = np.delete(A,l_index.index(node),0)\n",
    "    A = np.delete(A,l_index.index(node),1)\n",
    "    l_index.remove(node)\n",
    "    eig=0\n",
    "    for j in range(n_calc):\n",
    "        eig += max_ev(A=A)\n",
    "    eig_app.append(eig_start-eig/n_calc)\n",
    "    score+=eig/n_calc\n",
    "    cost.append((i+1)/N)\n",
    "print(score)"
   ]
  },
  {
   "cell_type": "code",
   "execution_count": null,
   "metadata": {},
   "outputs": [],
   "source": [
    "\n",
    "\n",
    "### conjugate_grad exact\n",
    "Gr = rx.networkx_converter(G)\n",
    "eig_start = max_ev(Gr)\n",
    "eig_ex = [0]\n",
    "cost = [0]\n",
    "n_calc=20\n",
    "A= rx.adjacency_matrix(Gr)\n",
    "l_index = list(range(N))\n",
    "score = 0\n",
    "for i in tqdm(range(0,N)):\n",
    "    node = vacc_ex[i]\n",
    "    A = np.delete(A,l_index.index(node),0)\n",
    "    A = np.delete(A,l_index.index(node),1)\n",
    "    l_index.remove(node)\n",
    "    eig=0\n",
    "    for j in range(n_calc):\n",
    "        eig += max_ev(A=A)\n",
    "    eig_ex.append(eig_start-eig/n_calc)\n",
    "    score+=eig/n_calc\n",
    "    cost.append((i+1)/N)\n",
    "print(score)"
   ]
  },
  {
   "cell_type": "code",
   "execution_count": 6,
   "metadata": {},
   "outputs": [
    {
     "name": "stderr",
     "output_type": "stream",
     "text": [
      "100%|██████████| 1000/1000 [00:11<00:00, 85.17it/s]"
     ]
    },
    {
     "name": "stdout",
     "output_type": "stream",
     "text": [
      "11954.597726034224\n"
     ]
    },
    {
     "name": "stderr",
     "output_type": "stream",
     "text": [
      "\n"
     ]
    }
   ],
   "source": [
    "### conjugate_grad euler\n",
    "Gr = rx.networkx_converter(G)\n",
    "eig_start = max_ev(Gr)\n",
    "eig_euler = [0]\n",
    "cost = [0]\n",
    "n_calc=20\n",
    "A= rx.adjacency_matrix(Gr)\n",
    "l_index = list(range(N))\n",
    "score = 0\n",
    "for i in tqdm(range(0,N)):\n",
    "    node = vacc_eul[i]\n",
    "    A = np.delete(A,l_index.index(node),0)\n",
    "    A = np.delete(A,l_index.index(node),1)\n",
    "    l_index.remove(node)\n",
    "    eig=0\n",
    "    for j in range(n_calc):\n",
    "        eig += max_ev(A=A)\n",
    "    eig_euler.append(eig_start-eig/n_calc)\n",
    "    score+=eig/n_calc\n",
    "    cost.append((i+1)/N)\n",
    "print(score)"
   ]
  },
  {
   "cell_type": "code",
   "execution_count": 9,
   "metadata": {},
   "outputs": [
    {
     "name": "stderr",
     "output_type": "stream",
     "text": [
      "100%|██████████| 999/999 [00:14<00:00, 69.67it/s] "
     ]
    },
    {
     "name": "stdout",
     "output_type": "stream",
     "text": [
      "8325.706459655317\n"
     ]
    },
    {
     "name": "stderr",
     "output_type": "stream",
     "text": [
      "\n"
     ]
    }
   ],
   "source": [
    "## vacc random\n",
    "vaccinated_rd = list(range(N))\n",
    "rd.shuffle(vaccinated_rd)\n",
    "eigendrop_rd = [0]\n",
    "A= rx.adjacency_matrix(Gr)\n",
    "l_index = list(range(N))\n",
    "n_calc=20\n",
    "score=0\n",
    "for i in tqdm(range(1,N)):\n",
    "    node = vaccinated_rd[i]\n",
    "    A = np.delete(A,l_index.index(node),0)\n",
    "    A = np.delete(A,l_index.index(node),1)\n",
    "    l_index.remove(node)\n",
    "    eig=0\n",
    "    for j in range(n_calc):\n",
    "        eig += max_ev(A=A)\n",
    "    eigendrop_rd.append(eig_start-eig/n_calc)\n",
    "    score+=eig/n_calc\n",
    "print(score)"
   ]
  },
  {
   "cell_type": "code",
   "execution_count": 12,
   "metadata": {},
   "outputs": [
    {
     "data": {
      "image/png": "[encoded data removed]",
      "text/plain": [
       "<Figure size 432x288 with 1 Axes>"
      ]
     },
     "metadata": {
      "needs_background": "light"
     },
     "output_type": "display_data"
    }
   ],
   "source": [
    "plt.figure(1)\n",
    "#plt.plot(cost,eig_ex,label=\"conjugate gradient exact\")\n",
    "plt.plot(cost,eig_app,label=\"conjugate gradient approx\")\n",
    "plt.plot(cost,eig_euler,label=\"conjugate gradient euler\")\n",
    "#plt.plot(cost,eigendrop_rd,label=\"random\")\n",
    "plt.grid()\n",
    "plt.xlabel('cost')\n",
    "plt.ylabel(\"eigendrop\")\n",
    "plt.legend()\n",
    "plt.show()"
   ]
  }
 ],
 "metadata": {
  "interpreter": {
   "hash": "11938c6bc6919ae2720b4d5011047913343b08a43b18698fd82dedb0d4417594"
  },
  "kernelspec": {
   "display_name": "Python 3.9.13 64-bit",
   "language": "python",
   "name": "python3"
  },
  "language_info": {
   "codemirror_mode": {
    "name": "ipython",
    "version": 3
   },
   "file_extension": ".py",
   "mimetype": "text/x-python",
   "name": "python",
   "nbconvert_exporter": "python",
   "pygments_lexer": "ipython3",
   "version": "3.9.13"
  },
  "orig_nbformat": 4
 },
 "nbformat": 4,
 "nbformat_minor": 2
}
