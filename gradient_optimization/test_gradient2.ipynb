{
 "cells": [
  {
   "cell_type": "code",
   "execution_count": 2,
   "metadata": {},
   "outputs": [],
   "source": [
    "import networkx as nx\n",
    "import retworkx as rx\n",
    "import matplotlib.pyplot as plt\n",
    "import random as rd\n",
    "from conjugate_gradient import conjugate_gradient_opt,conjugate_gradient_back\n",
    "import sys\n",
    "sys.path.append('\\graph_immunization')\n",
    "from network_generation import *\n",
    "from vulnerability_meas import max_ev\n",
    "import numpy as np\n",
    "from tqdm import tqdm\n",
    "import EoN\n"
   ]
  },
  {
   "cell_type": "code",
   "execution_count": 3,
   "metadata": {},
   "outputs": [],
   "source": [
    "def simu(G,ni=10):\n",
    "    R_last=0\n",
    "    for j in range(50):\n",
    "        infected = rd.sample(G.nodes,ni)\n",
    "        t, S, I, R = EoN.fast_SIR(G, 0.6, 1,\n",
    "                            initial_infecteds = infected)\n",
    "        R_last+=R[-1]\n",
    "\n",
    "    return R_last/(S[0]+len(infected))/50"
   ]
  },
  {
   "cell_type": "code",
   "execution_count": 4,
   "metadata": {},
   "outputs": [],
   "source": [
    "N = 1000\n",
    "G  = small_world(N)\n",
    "#G = config_model(1000)"
   ]
  },
  {
   "cell_type": "code",
   "execution_count": 3,
   "metadata": {},
   "outputs": [
    {
     "name": "stderr",
     "output_type": "stream",
     "text": [
      " 64%|██████▍   | 645/1000 [00:23<00:18, 18.90it/s]\\\\home\\wemaerem$\\graph_immunization\\gradient_optimization\\conjugate_gradient.py:30: RuntimeWarning: divide by zero encountered in true_divide\n",
      "  return b_k,np.where(b_k!=0.,1/b_k/1000,0)\n",
      " 84%|████████▎ | 837/1000 [00:35<00:13, 12.43it/s]\\\\home\\wemaerem$\\graph_immunization\\gradient_optimization\\conjugate_gradient.py:30: RuntimeWarning: overflow encountered in true_divide\n",
      "  return b_k,np.where(b_k!=0.,1/b_k/1000,0)\n",
      "100%|██████████| 1000/1000 [07:51<00:00,  2.12it/s]\n"
     ]
    }
   ],
   "source": [
    "vaccinated = conjugate_gradient_opt(G,N,exact=False)"
   ]
  },
  {
   "cell_type": "code",
   "execution_count": 1,
   "metadata": {},
   "outputs": [
    {
     "ename": "NameError",
     "evalue": "name 'tqdm' is not defined",
     "output_type": "error",
     "traceback": [
      "\u001b[1;31m---------------------------------------------------------------------------\u001b[0m",
      "\u001b[1;31mNameError\u001b[0m                                 Traceback (most recent call last)",
      "\u001b[1;32mwemaerem$\\graph_immunization\\gradient_optimization\\test_gradient2.ipynb Cell 5'\u001b[0m in \u001b[0;36m<cell line: 6>\u001b[1;34m()\u001b[0m\n\u001b[0;32m      <a href='vscode-notebook-cell://home/wemaerem%24/graph_immunization/gradient_optimization/test_gradient2.ipynb#ch0000003?line=2'>3</a>\u001b[0m conj_grad \u001b[39m=\u001b[39m [\u001b[39m0\u001b[39m]\n\u001b[0;32m      <a href='vscode-notebook-cell://home/wemaerem%24/graph_immunization/gradient_optimization/test_gradient2.ipynb#ch0000003?line=3'>4</a>\u001b[0m cost \u001b[39m=\u001b[39m [\u001b[39m0\u001b[39m]\n\u001b[1;32m----> <a href='vscode-notebook-cell://home/wemaerem%24/graph_immunization/gradient_optimization/test_gradient2.ipynb#ch0000003?line=5'>6</a>\u001b[0m \u001b[39mfor\u001b[39;00m i \u001b[39min\u001b[39;00m tqdm(\u001b[39mrange\u001b[39m(\u001b[39m0\u001b[39m,N)):\n\u001b[0;32m      <a href='vscode-notebook-cell://home/wemaerem%24/graph_immunization/gradient_optimization/test_gradient2.ipynb#ch0000003?line=6'>7</a>\u001b[0m     node \u001b[39m=\u001b[39m vaccinated[:i]\n\u001b[0;32m      <a href='vscode-notebook-cell://home/wemaerem%24/graph_immunization/gradient_optimization/test_gradient2.ipynb#ch0000003?line=7'>8</a>\u001b[0m     G_i \u001b[39m=\u001b[39m G\u001b[39m.\u001b[39mcopy()\n",
      "\u001b[1;31mNameError\u001b[0m: name 'tqdm' is not defined"
     ]
    }
   ],
   "source": [
    "### conjugate_grad\n",
    "\n",
    "conj_grad = [0]\n",
    "cost = [0]\n",
    "\n",
    "for i in tqdm(range(0,N)):\n",
    "    node = vaccinated[:i]\n",
    "    G_i = G.copy()\n",
    "    G_i.remove_nodes_from(node)\n",
    "    if i<N-10:\n",
    "        r = simu(G_i)\n",
    "    else:\n",
    "        r = simu(G_i,1)\n",
    "    conj_grad.append(r)\n",
    "    cost.append((i+1)/N)\n"
   ]
  },
  {
   "cell_type": "code",
   "execution_count": 3,
   "metadata": {},
   "outputs": [
    {
     "name": "stderr",
     "output_type": "stream",
     "text": [
      "  0%|          | 0/1000 [00:00<?, ?it/s]\\\\home\\wemaerem$\\graph_immunization\\gradient_optimization\\conjugate_gradient.py:30: RuntimeWarning: divide by zero encountered in reciprocal\n",
      "  return b_k,np.reciprocal(b_k)/1000\n",
      "100%|██████████| 1000/1000 [01:06<00:00, 14.97it/s]\n",
      "100%|██████████| 1000/1000 [00:12<00:00, 80.82it/s]"
     ]
    },
    {
     "name": "stdout",
     "output_type": "stream",
     "text": [
      "6043.095811436312\n"
     ]
    },
    {
     "name": "stderr",
     "output_type": "stream",
     "text": [
      "\n"
     ]
    }
   ],
   "source": [
    "vacc_back = conjugate_gradient_back(G,N)\n",
    "\n",
    "### conjugate_grad back\n",
    "\n",
    "conj_grad_back = [0]\n",
    "\n",
    "for i in tqdm(range(0,N)):\n",
    "    node = vacc_back[i]\n",
    "    G_i = G.copy()\n",
    "    G_i.remove_nodes_from(node)\n",
    "    r = simu(G_i)\n",
    "    conj_grad_back.append(r)"
   ]
  },
  {
   "cell_type": "code",
   "execution_count": null,
   "metadata": {},
   "outputs": [
    {
     "name": "stdout",
     "output_type": "stream",
     "text": [
      "780.3917703653581\n"
     ]
    }
   ],
   "source": [
    "## vacc random\n",
    "vaccinated_rd = list(range(N))\n",
    "rd.shuffle(vaccinated_rd)\n",
    "rand = [0]\n",
    "\n",
    "for i in tqdm(range(0,N)):\n",
    "    node = vaccinated_rd[i]\n",
    "    G_i = G.copy()\n",
    "    G_i.remove_nodes_from(node)\n",
    "    r = simu(G_i)\n",
    "    rand.append(r)"
   ]
  },
  {
   "cell_type": "code",
   "execution_count": null,
   "metadata": {},
   "outputs": [
    {
     "name": "stderr",
     "output_type": "stream",
     "text": [
      "100%|██████████| 100/100 [00:00<00:00, 2019.72it/s]\n"
     ]
    },
    {
     "name": "stdout",
     "output_type": "stream",
     "text": [
      "747.8639953619645\n",
      "724.2422957084069\n"
     ]
    }
   ],
   "source": [
    "from Vaccination_select import centrality_max_recomp,deg_max\n",
    "\n",
    "vacc_centr_r=centrality_max_recomp(G,N)\n",
    "vacc_deg_r=deg_max(G,N)\n",
    "\n",
    "eigendrop_cent_r = [0]\n",
    "\n",
    "for i in tqdm(range(0,N)):\n",
    "    node = vacc_centr_r[i]\n",
    "    G_i = G.copy()\n",
    "    G_i.remove_nodes_from(node)\n",
    "    r = simu(G_i)\n",
    "    eigendrop_cent_r.append(r)\n",
    "\n",
    "score=0\n",
    "eigendrop_deg_r = [0]\n",
    "for i in tqdm(range(0,N)):\n",
    "    node = vacc_deg_r[i]\n",
    "    G_i = G.copy()\n",
    "    G_i.remove_nodes_from(node)\n",
    "    r = simu(G_i)\n",
    "    eigendrop_deg_r.append(r)\n",
    "\n",
    "\n"
   ]
  },
  {
   "cell_type": "code",
   "execution_count": null,
   "metadata": {},
   "outputs": [
    {
     "name": "stdout",
     "output_type": "stream",
     "text": [
      "764.8293383380828\n"
     ]
    }
   ],
   "source": [
    "## ant colony\n",
    "vacc_ant = np.load('ant_colony.npy').astype(int)\n",
    "\n",
    "\n",
    "eigendrop_ant = [0]\n",
    "for i in tqdm(range(0,N)):\n",
    "    node = vacc_ant[i]\n",
    "    G_i = G.copy()\n",
    "    G_i.remove_nodes_from(node)\n",
    "    r = simu(G_i)\n",
    "    eigendrop_ant.append(r)"
   ]
  },
  {
   "cell_type": "code",
   "execution_count": null,
   "metadata": {},
   "outputs": [],
   "source": [
    "\n",
    "np.save(\"ed_conj_grad_smallworld.npy\",np.array([cost,eigendrop,eigendrop_rd]))"
   ]
  },
  {
   "cell_type": "code",
   "execution_count": 5,
   "metadata": {},
   "outputs": [
    {
     "data": {
      "image/png": "[encoded data removed]",
      "text/plain": [
       "<Figure size 432x288 with 1 Axes>"
      ]
     },
     "metadata": {
      "needs_background": "light"
     },
     "output_type": "display_data"
    }
   ],
   "source": [
    "plt.figure(1)\n",
    "plt.plot(cost,conj_grad,label=\"conjugate gradient method\")\n",
    "#plt.plot(cost,eig_back,label=\"conjugate gradient back\")\n",
    "#plt.plot(cost,grad,label=\"grad of the method\")\n",
    "#plt.plot(cost,eigendrop_rd,label=\"random vaccination\")\n",
    "#plt.plot(cost,eigendrop_deg,label=\"degree centrality no recomp\")\n",
    "#plt.plot(cost,eigendrop_cent,label=\"betweenness centrality no recomp\")\n",
    "#plt.plot(cost,eigendrop_deg_r,label=\"degree centrality \")\n",
    "#plt.plot(cost,eigendrop_cent_r,label=\"betweenness centrality \")\n",
    "#plt.plot(cost,eigendrop_ant,label='ant colony')\n",
    "plt.grid()\n",
    "plt.xlabel('cost')\n",
    "plt.ylabel(\"eigendrop\")\n",
    "plt.legend()\n",
    "plt.show()"
   ]
  },
  {
   "cell_type": "code",
   "execution_count": null,
   "metadata": {},
   "outputs": [
    {
     "name": "stdout",
     "output_type": "stream",
     "text": [
      "2568\n"
     ]
    }
   ],
   "source": [
    "k=1\n",
    "for i in range(1,1001):\n",
    "    k*=i\n",
    "s =str(k)\n",
    "print(len(s))"
   ]
  }
 ],
 "metadata": {
  "interpreter": {
   "hash": "11938c6bc6919ae2720b4d5011047913343b08a43b18698fd82dedb0d4417594"
  },
  "kernelspec": {
   "display_name": "Python 3.9.13 64-bit",
   "language": "python",
   "name": "python3"
  },
  "language_info": {
   "codemirror_mode": {
    "name": "ipython",
    "version": 3
   },
   "file_extension": ".py",
   "mimetype": "text/x-python",
   "name": "python",
   "nbconvert_exporter": "python",
   "pygments_lexer": "ipython3",
   "version": "3.9.13"
  },
  "orig_nbformat": 4
 },
 "nbformat": 4,
 "nbformat_minor": 2
}
